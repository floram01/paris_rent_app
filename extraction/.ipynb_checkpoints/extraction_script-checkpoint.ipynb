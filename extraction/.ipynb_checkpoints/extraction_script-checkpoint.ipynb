{
 "cells": [
  {
   "cell_type": "code",
   "execution_count": 31,
   "metadata": {
    "collapsed": false
   },
   "outputs": [
    {
     "name": "stdout",
     "output_type": "stream",
     "text": [
      "Populating the interactive namespace from numpy and matplotlib\n"
     ]
    }
   ],
   "source": [
    "%pylab inline\n",
    "import pandas as pd\n",
    "from pandas import DataFrame, Series\n",
    "from urllib2 import urlopen\n",
    "from bs4 import BeautifulSoup\n",
    "import requests\n",
    "import re"
   ]
  },
  {
   "cell_type": "code",
   "execution_count": 2,
   "metadata": {
    "collapsed": true
   },
   "outputs": [],
   "source": [
    "url = \"http://www.pap.fr/annonce/location-appartement-maison-paris-75-g439-1\"\n",
    "r = requests.get(url)\n",
    "soup =  BeautifulSoup(r.text)"
   ]
  },
  {
   "cell_type": "code",
   "execution_count": 5,
   "metadata": {
    "collapsed": true
   },
   "outputs": [],
   "source": [
    "annonces = soup.findAll(\"li\", \"annonce\")"
   ]
  },
  {
   "cell_type": "code",
   "execution_count": 30,
   "metadata": {
    "collapsed": false
   },
   "outputs": [
    {
     "data": {
      "text/plain": [
       "<li class=\"annonce\">\n",
       "<div class=\"header-annonce\">\n",
       "<a class=\"clearfix\" href=\"/annonces/appartement-paris-3e-r401001135\" name=\"401001135\" onclick=\"_gaq.push(['_trackEvent', 'LISTE LOCATION', 'Consulter' , 'Resume Titre']);\">\n",
       "<span class=\"desc\">Location meublée studio 25 m² Paris 3E</span>\n",
       "<span class=\"prix\">1.250 €</span>\n",
       "</a>\n",
       "<span class=\"coup-de-coeur\">\n",
       "<span class=\"picto\"></span>\n",
       "\t\t\t\tCharming furnished apart. Haut Marais Arts-et-metiers\t\t\t</span>\n",
       "<span class=\"date\">\n",
       "\t\t\tRéf. : A10/1135 /  26 janvier 2016\t\t</span>\n",
       "</div>\n",
       "<div class=\"clearfix\">\n",
       "<div class=\"vignette-annonce\">\n",
       "<a href=\"/annonce/location-appartement-maison-paris-75-g439-r401001135\" onclick=\"_gaq.push(['_trackEvent', 'LISTE LOCATION', 'Consulter', 'Resume Visuel']);\" rel=\"nofollow\">\n",
       "<img alt=\"Paris 3E\" height=\"158\" src=\"http://static.pap.fr/photos/A10/A10A1135.thumb.jpg\" width=\"212\"/>\n",
       "</a>\n",
       "<a class=\"favoris tooltip clearfix\" href=\"/utilisateur/login?back=%2Frecherche%2Fliste%2Fajouter-au-panier%3Fid%3D401001135%26back%3D%252Fannonce%252Flocation-appartement-maison-paris-75-g439\" onclick=\"_gaq.push(['_trackEvent', 'LISTE LOCATION', 'Ajouter Favoris - Non Connecte', 'Resume Picto Visuel']);\" rel=\"nofollow\" title=\"Ajouter à vos favoris\">\n",
       "<span class=\"picto\"></span>\n",
       "</a>\n",
       "<span class=\"nombre-photos\">\n",
       "<span class=\"picto\"></span>11\t\t\t\t</span>\n",
       "</div>\n",
       "<div class=\"description clearfix\">\n",
       "<p data-gaq='[\"_trackEvent\", \"LISTE LOCATION\", \"Consulter\", \"Resume Description\"]'>\n",
       "<strong>Paris 3e (75003).</strong>\n",
       "\t\t\t\tTrès bel appartement, poutres apparentes, 25 m², entièrement rénové en 2012 par architecte, situé derrière Arts-et-Métiers, rue du Vertbois, en plein coeur de Paris. Meublé et équipé : climatisation (chaud et...\t\t\t</p>\n",
       "<div class=\"metro\">Arts et Métiers, Strasbourg - Saint-Denis, Temple</div> <ul>\n",
       "<li>\n",
       "<span class=\"label\">Pièce</span>\n",
       "\t\t\t\t\t\t1\t\t\t\t\t</li>\n",
       "<li class=\"last\">\n",
       "<span class=\"label\">Surface</span>\n",
       "\t\t\t\t\t\t25 <span class=\"surface\">m<sup>2</sup></span> </li>\n",
       "</ul>\n",
       "<!-- Action -->\n",
       "<!-- //Action -->\n",
       "<a class=\"button\" href=\"/annonce/location-appartement-maison-paris-75-g439-r401001135\" onclick=\"_gaq.push(['_trackEvent', 'LISTE LOCATION', 'Consulter', 'Resume Details']);\" rel=\"nofollow\">\n",
       "\t\t\t\tDétails\n",
       "\t\t\t</a>\n",
       "<a class=\"button button-contact btn-liste-contact-email-popin\" data-annonce-id=\"401001135\" data-gaq-send='[\"_trackEvent\", \"LISTE LOCATION\", \"Envoyer E-mail IDF\", \"Popin\"]' data-mail=\"1\" data-simulation=\"false\" href=\"#popin-contact-proprietaire-email\" onclick=\"_gaq.push(['_trackEvent', 'LISTE LOCATION', 'Ouvrir Contact E-mail IDF', 'Popin']);\">\n",
       "\t\t\t\t\tContact\n",
       "\t\t\t\t</a>\n",
       "</div>\n",
       "</div>\n",
       "<!-- eStat ROI tag -->\n",
       "<img border=\"0\" height=\"1\" src=\"http://prof.estat.com/m/web/240040202756?g=09142&amp;action=V&amp;ptype=recherche&amp;pbrand=liste&amp;pref=401001135&amp;nb=1&amp;ca=0&amp;st=0&amp;sjs=0\" width=\"1\"/>\n",
       "<!-- /eStat -->\n",
       "</li>"
      ]
     },
     "execution_count": 30,
     "metadata": {},
     "output_type": "execute_result"
    }
   ],
   "source": [
    "annonces[0]"
   ]
  },
  {
   "cell_type": "code",
   "execution_count": 103,
   "metadata": {
    "collapsed": false
   },
   "outputs": [
    {
     "data": {
      "text/plain": [
       "u'1'"
      ]
     },
     "execution_count": 103,
     "metadata": {},
     "output_type": "execute_result"
    }
   ],
   "source": [
    "annonces[0].find('span', 'prix')\n",
    "annonces[0].find('span', 'desc')\n",
    "annonces[0].find('span', 'coup-de-coeur')\n",
    "annonces[0].find('p')\n",
    "annonces[0].find('img')['src']\n",
    "full_desc = annonces[0].find('p').contents[2]\n",
    "arr_pat = re.compile('\\((.*)\\)')\n",
    "arr = arr_pat.search(annonces[0].find('p').contents[1].contents[0]).group(1)\n",
    "metros_list = annonces[0].find('div','metro').contents\n",
    "annonces[0].find('span', 'date')\n",
    "date_pat = re.compile('.*/.*/\\s{2}(.*)\\t{2}')\n",
    "data = date_pat.search(annonces[0].find('span', 'date').contents[0]).group(1)\n",
    "ref_pat = re.compile(':\\s(\\S*)\\s')\n",
    "ref_pat.search(annonces[0].find('span', 'date').contents[0]).group(1)\n",
    "size_pat = re.compile('([0-9]+)')\n",
    "size_pat.search(annonces[0].find('li', 'last').contents[2]).group(1)\n",
    "size_pat.search(annonces[0].find('li').contents[2]).group(1)"
   ]
  },
  {
   "cell_type": "code",
   "execution_count": 182,
   "metadata": {
    "collapsed": false
   },
   "outputs": [],
   "source": [
    "def extract_from_one(annonce):\n",
    "    new=dict()\n",
    "    price_pat= re.compile('[0-9.]+')\n",
    "    try:\n",
    "        new['price']= price_pat.search(annonce.find('span', 'prix').contents[0]).group(0)\n",
    "    except:    \n",
    "        new['price']= None    \n",
    "    try:\n",
    "        new['desc'] = annonce.find('span', 'desc').contents[0]\n",
    "    except:\n",
    "        new['desc'] = None\n",
    "    try:\n",
    "        new['img']=annonce.find('img')['src']\n",
    "    except:\n",
    "        new['img']= None\n",
    "    try:\n",
    "        new['full_desc']= annonce.find('p').contents[2].strip()\n",
    "    except:\n",
    "        new['full_desc']= None\n",
    "    arr_pat = re.compile('\\((.*)\\)')\n",
    "    try:\n",
    "        new['arr'] = arr_pat.search(annonce.find('p').contents[1].contents[0]).group(1)\n",
    "    except:\n",
    "        new['arr'] = None\n",
    "    try:\n",
    "        new['metros_list'] = annonce.find('div','metro').contents\n",
    "    except:\n",
    "        new['metros_list'] = None\n",
    "    date_pat = re.compile('.*/.*/\\s{2}(.*)\\t{2}')\n",
    "    try:\n",
    "        new['date_ref'] = date_pat.search(annonce.find('span', 'date').contents[0]).group(1)\n",
    "    except:\n",
    "        new['date_ref'] = None\n",
    "    ref_pat = re.compile(':\\s(\\S*)\\s')\n",
    "    try:\n",
    "        new['ref_num']=ref_pat.search(annonce.find('span', 'date').contents[0]).group(1)\n",
    "    except:\n",
    "        new['ref_num']= None\n",
    "    size_pat = re.compile('([0-9]+)')\n",
    "    try:\n",
    "        new['surface']=size_pat.search(annonce.find('li', 'last').contents[2]).group(1)\n",
    "    except:\n",
    "        new['surface']= None\n",
    "    try:\n",
    "        new['rooms_num']=size_pat.search(annonce.find('li').contents[2]).group(1)\n",
    "    except:\n",
    "        new['rooms_num']= None\n",
    "    return  new"
   ]
  },
  {
   "cell_type": "code",
   "execution_count": 183,
   "metadata": {
    "collapsed": false
   },
   "outputs": [],
   "source": [
    "extractions=[]\n",
    "for i,_ in enumerate(annonces):\n",
    "    new= extract_from_one(annonces[i])\n",
    "    extractions.append(new)"
   ]
  },
  {
   "cell_type": "code",
   "execution_count": 184,
   "metadata": {
    "collapsed": false
   },
   "outputs": [
    {
     "data": {
      "text/plain": [
       "{'arr': u'75001',\n",
       " 'date_ref': u'26 janvier 2016',\n",
       " 'desc': u'Location meubl\\xe9e appartement 2\\xa0pi\\xe8ces 35\\xa0m\\xb2 Paris 1Er',\n",
       " 'full_desc': u'Appartement standing dans immeuble haussmannien s\\xe9curis\\xe9\\xa0: location meubl\\xe9e bail 1an renouvelable .\\r\\nAppartement tr\\xe8s fonctionnel de 2 pi\\xe8ces 35\\xa0m\\xb2 avec terrasse 25\\xa0m\\xb2 privative. \\r\\nEntr\\xe9e\\xa0: cuisine...',\n",
       " 'img': 'http://static.pap.fr/photos/A90/A90A0392.thumb.jpg',\n",
       " 'metros_list': [u'Pont Neuf, Ch\\xe2telet - Les Halles, Louvre - Rivoli'],\n",
       " 'price': u'1.480',\n",
       " 'ref_num': u'A90/0392',\n",
       " 'rooms_num': u'2',\n",
       " 'surface': u'35'}"
      ]
     },
     "execution_count": 184,
     "metadata": {},
     "output_type": "execute_result"
    }
   ],
   "source": [
    "extractions[6]"
   ]
  },
  {
   "cell_type": "code",
   "execution_count": 134,
   "metadata": {
    "collapsed": false
   },
   "outputs": [],
   "source": [
    "new['price']=2"
   ]
  },
  {
   "cell_type": "code",
   "execution_count": 135,
   "metadata": {
    "collapsed": false
   },
   "outputs": [
    {
     "data": {
      "text/plain": [
       "{'price': 2}"
      ]
     },
     "execution_count": 135,
     "metadata": {},
     "output_type": "execute_result"
    }
   ],
   "source": [
    "new"
   ]
  }
 ],
 "metadata": {
  "kernelspec": {
   "display_name": "Python 2",
   "language": "python",
   "name": "python2"
  },
  "language_info": {
   "codemirror_mode": {
    "name": "ipython",
    "version": 2
   },
   "file_extension": ".py",
   "mimetype": "text/x-python",
   "name": "python",
   "nbconvert_exporter": "python",
   "pygments_lexer": "ipython2",
   "version": "2.7.11"
  }
 },
 "nbformat": 4,
 "nbformat_minor": 0
}
