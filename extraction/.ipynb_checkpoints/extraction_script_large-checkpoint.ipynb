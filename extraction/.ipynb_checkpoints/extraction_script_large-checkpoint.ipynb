{
 "cells": [
  {
   "cell_type": "code",
   "execution_count": 235,
   "metadata": {
    "collapsed": false
   },
   "outputs": [],
   "source": [
    "%pylab inline\n",
    "import pandas as pd\n",
    "from pandas import DataFrame, Series\n",
    "from urllib2 import urlopen\n",
    "from bs4 import BeautifulSoup\n",
    "import requests\n",
    "import re\n",
    "import time"
   ]
  },
  {
   "cell_type": "code",
   "execution_count": 129,
   "metadata": {
    "collapsed": true
   },
   "outputs": [],
   "source": [
    "reload(sys)\n",
    "sys.setdefaultencoding('utf-8')"
   ]
  },
  {
   "cell_type": "code",
   "execution_count": 236,
   "metadata": {
    "collapsed": false
   },
   "outputs": [],
   "source": [
    "url = \"http://www.seloger.com/immobilier/locations/immo-paris-75/bien-appartement/?LISTING-LISTpg=2\"\n",
    "r = requests.get(url)\n",
    "soup =  BeautifulSoup(r.text)"
   ]
  },
  {
   "cell_type": "code",
   "execution_count": 287,
   "metadata": {
    "collapsed": true
   },
   "outputs": [],
   "source": [
    "def iter_through(num_pages):\n",
    "    iter_obj= range(1,num_pages+1)\n",
    "    extraction=[]\n",
    "    for num_page in iter_obj:\n",
    "        url = \"http://www.seloger.com/immobilier/locations/immo-paris-75/bien-appartement/?LISTING-LISTpg={0}\".format(num_page)\n",
    "        r = requests.get(url)\n",
    "        soup =  BeautifulSoup(r.text)\n",
    "        soup_of_interest = soup.find_all('article')\n",
    "        new_extraction= extract_from_soup(soup_of_interest)\n",
    "        extraction+=new_extraction\n",
    "        time.sleep(5)\n",
    "        print 'page {0} scrapped'.format(num_page)\n",
    "        if num_page % 50 ==0:\n",
    "            data=DataFrame.from_dict(extraction)\n",
    "            file_output='data_large.csv '\n",
    "            data.to_csv(file_output, encoding='utf8')\n",
    "    return DataFrame.from_dict(extraction)     "
   ]
  },
  {
   "cell_type": "code",
   "execution_count": 267,
   "metadata": {
    "collapsed": true
   },
   "outputs": [],
   "source": [
    "def extract_from_one(annonce):\n",
    "    new=dict()\n",
    "    price_pat= re.compile('[0-9.]+')\n",
    "    try:\n",
    "        new['img']=annonce.find('img')['src']\n",
    "    except:\n",
    "        new['img']= None\n",
    "    try:\n",
    "        new['desc'] = annonce.find('h2').a['title']\n",
    "    except:\n",
    "        new['desc'] = None \n",
    "    try:\n",
    "        price_pat=re.compile('^([0-9]*)(\\xa0)*([0-9]+)')\n",
    "        price_match=price_pat.search(annonce.find('div', 'price').a.contents[0])\n",
    "        price_clean=price_match.group(1)+price_match.group(3)\n",
    "        new['price']= price_clean\n",
    "    except:\n",
    "        new['price']=None\n",
    "    try:\n",
    "        new['full_desc']= annonce.find('p','description').contents[0].strip()\n",
    "    except:\n",
    "        new['full_desc']= None  \n",
    "    try:\n",
    "        contents=annonce.find('ul','property_list').find_all('li')\n",
    "        size_pat=re.compile('([0-9]+)\\s')\n",
    "        for i,_ in enumerate(contents):\n",
    "            elem=contents[i].contents[0]\n",
    "            if 'p' in elem:\n",
    "                new['rooms_num']=size_pat.search(elem).group(1)\n",
    "            elif 'm' in elem:\n",
    "                new['surface']=size_pat.search(elem).group(1)\n",
    "    except:\n",
    "        new['rooms_num']= None\n",
    "        new['surface']= None\n",
    "    try:\n",
    "        arr_pat=re.compile(r'Paris ([0-9]+)')\n",
    "        new['arr']=arr_pat.search(annonce.find('h2').a['title']).group(1)\n",
    "    except:\n",
    "        new['arr']=None\n",
    "    return new    "
   ]
  },
  {
   "cell_type": "code",
   "execution_count": 239,
   "metadata": {
    "collapsed": true
   },
   "outputs": [],
   "source": [
    "def extract_from_soup(soup):\n",
    "    extractions=[]\n",
    "    for annonce in soup:\n",
    "        new= extract_from_one(annonce)\n",
    "        extractions.append(new)\n",
    "    return extractions    "
   ]
  },
  {
   "cell_type": "code",
   "execution_count": 288,
   "metadata": {
    "collapsed": true
   },
   "outputs": [],
   "source": [
    "extraction= iter_through(2)"
   ]
  },
  {
   "cell_type": "code",
   "execution_count": 289,
   "metadata": {
    "collapsed": false
   },
   "outputs": [
    {
     "data": {
      "text/html": [
       "<div>\n",
       "<table border=\"1\" class=\"dataframe\">\n",
       "  <thead>\n",
       "    <tr style=\"text-align: right;\">\n",
       "      <th></th>\n",
       "      <th>arr</th>\n",
       "      <th>desc</th>\n",
       "      <th>full_desc</th>\n",
       "      <th>img</th>\n",
       "      <th>price</th>\n",
       "      <th>rooms_num</th>\n",
       "      <th>surface</th>\n",
       "    </tr>\n",
       "  </thead>\n",
       "  <tbody>\n",
       "    <tr>\n",
       "      <th>0</th>\n",
       "      <td>18</td>\n",
       "      <td>location Appartement 4 pièces Paris 18ème</td>\n",
       "      <td>'Rue Philippe de Girard / 75018 Paris'. Dans u...</td>\n",
       "      <td>http://d.visuels.poliris.com/c175/d/e/3/d/de3d...</td>\n",
       "      <td>1606</td>\n",
       "      <td>4</td>\n",
       "      <td>67</td>\n",
       "    </tr>\n",
       "    <tr>\n",
       "      <th>1</th>\n",
       "      <td>16</td>\n",
       "      <td>location Appartement 5 pièces Paris 16ème</td>\n",
       "      <td>MÉTRO RANELAGH\\r\\nAu 3ème étage d'un immeuble ...</td>\n",
       "      <td>http://c.visuels.poliris.com/c175/c/b/8/2/cb82...</td>\n",
       "      <td>3600</td>\n",
       "      <td>5</td>\n",
       "      <td>125</td>\n",
       "    </tr>\n",
       "    <tr>\n",
       "      <th>2</th>\n",
       "      <td>18</td>\n",
       "      <td>location Appartement 3 pièces Paris 18ème</td>\n",
       "      <td>Métro ligne 13 - Station Guy Môquet\\r\\nJoli 3 ...</td>\n",
       "      <td>http://dyn.visuels.poliris.com/logosPublicatio...</td>\n",
       "      <td>1350</td>\n",
       "      <td>3</td>\n",
       "      <td>55</td>\n",
       "    </tr>\n",
       "    <tr>\n",
       "      <th>3</th>\n",
       "      <td>15</td>\n",
       "      <td>location Appartement 2 pièces Paris 15ème</td>\n",
       "      <td>Rendez vous directement sur place sis 20 Rue C...</td>\n",
       "      <td>http://0.visuels.poliris.com/c250/0/3/a/f/03af...</td>\n",
       "      <td>1100</td>\n",
       "      <td>2</td>\n",
       "      <td>51</td>\n",
       "    </tr>\n",
       "    <tr>\n",
       "      <th>4</th>\n",
       "      <td>15</td>\n",
       "      <td>location Appartement 2 pièces Paris 15ème</td>\n",
       "      <td>Rendez vous directement sur place sis 20 Rue C...</td>\n",
       "      <td>http://dyn.visuels.poliris.com/logosAgences/st...</td>\n",
       "      <td>1100</td>\n",
       "      <td>2</td>\n",
       "      <td>51</td>\n",
       "    </tr>\n",
       "  </tbody>\n",
       "</table>\n",
       "</div>"
      ],
      "text/plain": [
       "  arr                                       desc  \\\n",
       "0  18  location Appartement 4 pièces Paris 18ème   \n",
       "1  16  location Appartement 5 pièces Paris 16ème   \n",
       "2  18  location Appartement 3 pièces Paris 18ème   \n",
       "3  15  location Appartement 2 pièces Paris 15ème   \n",
       "4  15  location Appartement 2 pièces Paris 15ème   \n",
       "\n",
       "                                           full_desc  \\\n",
       "0  'Rue Philippe de Girard / 75018 Paris'. Dans u...   \n",
       "1  MÉTRO RANELAGH\\r\\nAu 3ème étage d'un immeuble ...   \n",
       "2  Métro ligne 13 - Station Guy Môquet\\r\\nJoli 3 ...   \n",
       "3  Rendez vous directement sur place sis 20 Rue C...   \n",
       "4  Rendez vous directement sur place sis 20 Rue C...   \n",
       "\n",
       "                                                 img price rooms_num surface  \n",
       "0  http://d.visuels.poliris.com/c175/d/e/3/d/de3d...  1606         4      67  \n",
       "1  http://c.visuels.poliris.com/c175/c/b/8/2/cb82...  3600         5     125  \n",
       "2  http://dyn.visuels.poliris.com/logosPublicatio...  1350         3      55  \n",
       "3  http://0.visuels.poliris.com/c250/0/3/a/f/03af...  1100         2      51  \n",
       "4  http://dyn.visuels.poliris.com/logosAgences/st...  1100         2      51  "
      ]
     },
     "execution_count": 289,
     "metadata": {},
     "output_type": "execute_result"
    }
   ],
   "source": [
    "extraction.head()"
   ]
  },
  {
   "cell_type": "code",
   "execution_count": 286,
   "metadata": {
    "collapsed": false
   },
   "outputs": [
    {
     "data": {
      "text/html": [
       "<div>\n",
       "<table border=\"1\" class=\"dataframe\">\n",
       "  <thead>\n",
       "    <tr style=\"text-align: right;\">\n",
       "      <th></th>\n",
       "      <th>arr</th>\n",
       "      <th>desc</th>\n",
       "      <th>full_desc</th>\n",
       "      <th>img</th>\n",
       "      <th>price</th>\n",
       "      <th>rooms_num</th>\n",
       "      <th>surface</th>\n",
       "    </tr>\n",
       "  </thead>\n",
       "  <tbody>\n",
       "    <tr>\n",
       "      <th>0</th>\n",
       "      <td>6</td>\n",
       "      <td>location Appartement 2 pièces Paris 6ème</td>\n",
       "      <td>75006-Paris proche du métro St Placide, proche...</td>\n",
       "      <td>http://4.visuels.poliris.com/c175/4/6/1/f/461f...</td>\n",
       "      <td>1571</td>\n",
       "      <td>2</td>\n",
       "      <td>66</td>\n",
       "    </tr>\n",
       "    <tr>\n",
       "      <th>1</th>\n",
       "      <td>15</td>\n",
       "      <td>location Appartement 2 pièces Paris 15ème</td>\n",
       "      <td>Visite le mercredi 27 Janvier à 8 H 45 (merci ...</td>\n",
       "      <td>http://dyn.visuels.poliris.com/logosAgences/st...</td>\n",
       "      <td>1067</td>\n",
       "      <td>2</td>\n",
       "      <td>2</td>\n",
       "    </tr>\n",
       "    <tr>\n",
       "      <th>2</th>\n",
       "      <td>15</td>\n",
       "      <td>location Appartement 2 pièces Paris 15ème</td>\n",
       "      <td>Dans un quartier très agréable, proche de tout...</td>\n",
       "      <td>http://1.visuels.poliris.com/c175/1/b/8/c/1b8c...</td>\n",
       "      <td>560</td>\n",
       "      <td>2</td>\n",
       "      <td>21</td>\n",
       "    </tr>\n",
       "    <tr>\n",
       "      <th>3</th>\n",
       "      <td>18</td>\n",
       "      <td>location Appartement 4 pièces Paris 18ème</td>\n",
       "      <td>'Rue Philippe de Girard / 75018 Paris'. Dans u...</td>\n",
       "      <td>http://d.visuels.poliris.com/c175/d/e/3/d/de3d...</td>\n",
       "      <td>1606</td>\n",
       "      <td>4</td>\n",
       "      <td>67</td>\n",
       "    </tr>\n",
       "    <tr>\n",
       "      <th>4</th>\n",
       "      <td>16</td>\n",
       "      <td>location Appartement 5 pièces Paris 16ème</td>\n",
       "      <td>MÉTRO RANELAGH\\r\\nAu 3ème étage d'un immeuble ...</td>\n",
       "      <td>http://c.visuels.poliris.com/c175/c/b/8/2/cb82...</td>\n",
       "      <td>3600</td>\n",
       "      <td>5</td>\n",
       "      <td>125</td>\n",
       "    </tr>\n",
       "  </tbody>\n",
       "</table>\n",
       "</div>"
      ],
      "text/plain": [
       "  arr                                       desc  \\\n",
       "0   6   location Appartement 2 pièces Paris 6ème   \n",
       "1  15  location Appartement 2 pièces Paris 15ème   \n",
       "2  15  location Appartement 2 pièces Paris 15ème   \n",
       "3  18  location Appartement 4 pièces Paris 18ème   \n",
       "4  16  location Appartement 5 pièces Paris 16ème   \n",
       "\n",
       "                                           full_desc  \\\n",
       "0  75006-Paris proche du métro St Placide, proche...   \n",
       "1  Visite le mercredi 27 Janvier à 8 H 45 (merci ...   \n",
       "2  Dans un quartier très agréable, proche de tout...   \n",
       "3  'Rue Philippe de Girard / 75018 Paris'. Dans u...   \n",
       "4  MÉTRO RANELAGH\\r\\nAu 3ème étage d'un immeuble ...   \n",
       "\n",
       "                                                 img price rooms_num surface  \n",
       "0  http://4.visuels.poliris.com/c175/4/6/1/f/461f...  1571         2      66  \n",
       "1  http://dyn.visuels.poliris.com/logosAgences/st...  1067         2       2  \n",
       "2  http://1.visuels.poliris.com/c175/1/b/8/c/1b8c...   560         2      21  \n",
       "3  http://d.visuels.poliris.com/c175/d/e/3/d/de3d...  1606         4      67  \n",
       "4  http://c.visuels.poliris.com/c175/c/b/8/2/cb82...  3600         5     125  "
      ]
     },
     "execution_count": 286,
     "metadata": {},
     "output_type": "execute_result"
    }
   ],
   "source": [
    "data.head()"
   ]
  }
 ],
 "metadata": {
  "kernelspec": {
   "display_name": "Python 2",
   "language": "python",
   "name": "python2"
  },
  "language_info": {
   "codemirror_mode": {
    "name": "ipython",
    "version": 2
   },
   "file_extension": ".py",
   "mimetype": "text/x-python",
   "name": "python",
   "nbconvert_exporter": "python",
   "pygments_lexer": "ipython2",
   "version": "2.7.11"
  }
 },
 "nbformat": 4,
 "nbformat_minor": 0
}
